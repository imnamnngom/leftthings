{
  "cells": [
    {
      "cell_type": "markdown",
      "metadata": {
        "id": "view-in-github",
        "colab_type": "text"
      },
      "source": [
        "<a href=\"https://colab.research.google.com/github/imnamnngom/leftthings/blob/main/%EA%B3%BC%EC%A0%9C1.ipynb\" target=\"_parent\"><img src=\"https://colab.research.google.com/assets/colab-badge.svg\" alt=\"Open In Colab\"/></a>"
      ]
    },
    {
      "cell_type": "markdown",
      "metadata": {
        "id": "3mUBPSlwm4qA"
      },
      "source": [
        "**This notebook is an exercise in the [Intro to Deep Learning](https://www.kaggle.com/learn/intro-to-deep-learning) course.  You can reference the tutorial at [this link](https://www.kaggle.com/ryanholbrook/a-single-neuron).**\n",
        "\n",
        "---\n"
      ]
    },
    {
      "cell_type": "markdown",
      "metadata": {
        "id": "hED07tV_6QSa"
      },
      "source": [
        ""
      ]
    },
    {
      "cell_type": "markdown",
      "metadata": {
        "id": "lu_BKhPIm4qE"
      },
      "source": [
        "# Introduction #\n",
        "\n",
        "In the tutorial we learned about the building blocks of neural networks: *linear units*. We saw that a model of just one linear unit will fit a linear function to a dataset (equivalent to linear regression). In this exercise, you'll build a linear model and get some practice working with models in Keras.\n",
        "\n",
        "Before you get started, run the code cell below to set everything up."
      ]
    },
    {
      "cell_type": "code",
      "execution_count": null,
      "metadata": {
        "id": "vx-9ingj6RUo"
      },
      "outputs": [],
      "source": [
        ""
      ]
    },
    {
      "cell_type": "markdown",
      "metadata": {
        "id": "9IZlV-B-6Rzy"
      },
      "source": [
        ""
      ]
    },
    {
      "cell_type": "markdown",
      "metadata": {
        "id": "beV27Dokm4qF"
      },
      "source": [
        "The *Red Wine Quality* dataset consists of physiochemical measurements from about 1600 Portuguese red wines.  Also included is a quality rating for each wine from blind taste-tests. \n",
        "\n",
        "First, run the next cell to display the first few rows of this dataset."
      ]
    },
    {
      "cell_type": "code",
      "execution_count": null,
      "metadata": {
        "id": "oOsO38pc7e7i"
      },
      "outputs": [],
      "source": [
        "import pandas as pd\n",
        "from IPython.display import display\n",
        "\n",
        "red_wine = pd.read_csv('winequality-red.csv')  #와인 퀄리티 파일 불러오기"
      ]
    },
    {
      "cell_type": "code",
      "execution_count": null,
      "metadata": {
        "id": "utg6bvBNcPUA"
      },
      "outputs": [],
      "source": [
        "#for setting up train and test sets\n",
        "from sklearn.model_selection import train_test_split  # 테스트 파일 분류해줄 라이브러리 가져오기\n",
        "from sklearn.preprocessing import StandardScaler #표준화; 너무 오차가 크면 작은 숫자는 영향이 없기 \n",
        "#때문에 평균과 분산을 이용해 1~0값으로 만듬"
      ]
    },
    {
      "cell_type": "code",
      "execution_count": null,
      "metadata": {
        "id": "1Pu8-raNcXIj"
      },
      "outputs": [],
      "source": [
        "y = red_wine['quality']  #목표변수\n",
        "x = red_wine.drop(columns = 'quality')  #독립변수"
      ]
    },
    {
      "cell_type": "code",
      "execution_count": null,
      "metadata": {
        "colab": {
          "base_uri": "https://localhost:8080/",
          "height": 424
        },
        "id": "Yz9Wvao2d2zj",
        "outputId": "e2071451-8a31-4efe-b46f-4a11157731f4"
      },
      "outputs": [
        {
          "output_type": "execute_result",
          "data": {
            "text/plain": [
              "      fixed acidity  volatile acidity  citric acid  residual sugar  chlorides  \\\n",
              "0               7.4             0.700         0.00             1.9      0.076   \n",
              "1               7.8             0.880         0.00             2.6      0.098   \n",
              "2               7.8             0.760         0.04             2.3      0.092   \n",
              "3              11.2             0.280         0.56             1.9      0.075   \n",
              "4               7.4             0.700         0.00             1.9      0.076   \n",
              "...             ...               ...          ...             ...        ...   \n",
              "1594            6.2             0.600         0.08             2.0      0.090   \n",
              "1595            5.9             0.550         0.10             2.2      0.062   \n",
              "1596            6.3             0.510         0.13             2.3      0.076   \n",
              "1597            5.9             0.645         0.12             2.0      0.075   \n",
              "1598            6.0             0.310         0.47             3.6      0.067   \n",
              "\n",
              "      free sulfur dioxide  total sulfur dioxide  density    pH  sulphates  \\\n",
              "0                    11.0                  34.0  0.99780  3.51       0.56   \n",
              "1                    25.0                  67.0  0.99680  3.20       0.68   \n",
              "2                    15.0                  54.0  0.99700  3.26       0.65   \n",
              "3                    17.0                  60.0  0.99800  3.16       0.58   \n",
              "4                    11.0                  34.0  0.99780  3.51       0.56   \n",
              "...                   ...                   ...      ...   ...        ...   \n",
              "1594                 32.0                  44.0  0.99490  3.45       0.58   \n",
              "1595                 39.0                  51.0  0.99512  3.52       0.76   \n",
              "1596                 29.0                  40.0  0.99574  3.42       0.75   \n",
              "1597                 32.0                  44.0  0.99547  3.57       0.71   \n",
              "1598                 18.0                  42.0  0.99549  3.39       0.66   \n",
              "\n",
              "      alcohol  quality  \n",
              "0         9.4        5  \n",
              "1         9.8        5  \n",
              "2         9.8        5  \n",
              "3         9.8        6  \n",
              "4         9.4        5  \n",
              "...       ...      ...  \n",
              "1594     10.5        5  \n",
              "1595     11.2        6  \n",
              "1596     11.0        6  \n",
              "1597     10.2        5  \n",
              "1598     11.0        6  \n",
              "\n",
              "[1599 rows x 12 columns]"
            ],
            "text/html": [
              "\n",
              "  <div id=\"df-8d6d8ff2-8097-42cc-9bbd-2ecf2c970530\">\n",
              "    <div class=\"colab-df-container\">\n",
              "      <div>\n",
              "<style scoped>\n",
              "    .dataframe tbody tr th:only-of-type {\n",
              "        vertical-align: middle;\n",
              "    }\n",
              "\n",
              "    .dataframe tbody tr th {\n",
              "        vertical-align: top;\n",
              "    }\n",
              "\n",
              "    .dataframe thead th {\n",
              "        text-align: right;\n",
              "    }\n",
              "</style>\n",
              "<table border=\"1\" class=\"dataframe\">\n",
              "  <thead>\n",
              "    <tr style=\"text-align: right;\">\n",
              "      <th></th>\n",
              "      <th>fixed acidity</th>\n",
              "      <th>volatile acidity</th>\n",
              "      <th>citric acid</th>\n",
              "      <th>residual sugar</th>\n",
              "      <th>chlorides</th>\n",
              "      <th>free sulfur dioxide</th>\n",
              "      <th>total sulfur dioxide</th>\n",
              "      <th>density</th>\n",
              "      <th>pH</th>\n",
              "      <th>sulphates</th>\n",
              "      <th>alcohol</th>\n",
              "      <th>quality</th>\n",
              "    </tr>\n",
              "  </thead>\n",
              "  <tbody>\n",
              "    <tr>\n",
              "      <th>0</th>\n",
              "      <td>7.4</td>\n",
              "      <td>0.700</td>\n",
              "      <td>0.00</td>\n",
              "      <td>1.9</td>\n",
              "      <td>0.076</td>\n",
              "      <td>11.0</td>\n",
              "      <td>34.0</td>\n",
              "      <td>0.99780</td>\n",
              "      <td>3.51</td>\n",
              "      <td>0.56</td>\n",
              "      <td>9.4</td>\n",
              "      <td>5</td>\n",
              "    </tr>\n",
              "    <tr>\n",
              "      <th>1</th>\n",
              "      <td>7.8</td>\n",
              "      <td>0.880</td>\n",
              "      <td>0.00</td>\n",
              "      <td>2.6</td>\n",
              "      <td>0.098</td>\n",
              "      <td>25.0</td>\n",
              "      <td>67.0</td>\n",
              "      <td>0.99680</td>\n",
              "      <td>3.20</td>\n",
              "      <td>0.68</td>\n",
              "      <td>9.8</td>\n",
              "      <td>5</td>\n",
              "    </tr>\n",
              "    <tr>\n",
              "      <th>2</th>\n",
              "      <td>7.8</td>\n",
              "      <td>0.760</td>\n",
              "      <td>0.04</td>\n",
              "      <td>2.3</td>\n",
              "      <td>0.092</td>\n",
              "      <td>15.0</td>\n",
              "      <td>54.0</td>\n",
              "      <td>0.99700</td>\n",
              "      <td>3.26</td>\n",
              "      <td>0.65</td>\n",
              "      <td>9.8</td>\n",
              "      <td>5</td>\n",
              "    </tr>\n",
              "    <tr>\n",
              "      <th>3</th>\n",
              "      <td>11.2</td>\n",
              "      <td>0.280</td>\n",
              "      <td>0.56</td>\n",
              "      <td>1.9</td>\n",
              "      <td>0.075</td>\n",
              "      <td>17.0</td>\n",
              "      <td>60.0</td>\n",
              "      <td>0.99800</td>\n",
              "      <td>3.16</td>\n",
              "      <td>0.58</td>\n",
              "      <td>9.8</td>\n",
              "      <td>6</td>\n",
              "    </tr>\n",
              "    <tr>\n",
              "      <th>4</th>\n",
              "      <td>7.4</td>\n",
              "      <td>0.700</td>\n",
              "      <td>0.00</td>\n",
              "      <td>1.9</td>\n",
              "      <td>0.076</td>\n",
              "      <td>11.0</td>\n",
              "      <td>34.0</td>\n",
              "      <td>0.99780</td>\n",
              "      <td>3.51</td>\n",
              "      <td>0.56</td>\n",
              "      <td>9.4</td>\n",
              "      <td>5</td>\n",
              "    </tr>\n",
              "    <tr>\n",
              "      <th>...</th>\n",
              "      <td>...</td>\n",
              "      <td>...</td>\n",
              "      <td>...</td>\n",
              "      <td>...</td>\n",
              "      <td>...</td>\n",
              "      <td>...</td>\n",
              "      <td>...</td>\n",
              "      <td>...</td>\n",
              "      <td>...</td>\n",
              "      <td>...</td>\n",
              "      <td>...</td>\n",
              "      <td>...</td>\n",
              "    </tr>\n",
              "    <tr>\n",
              "      <th>1594</th>\n",
              "      <td>6.2</td>\n",
              "      <td>0.600</td>\n",
              "      <td>0.08</td>\n",
              "      <td>2.0</td>\n",
              "      <td>0.090</td>\n",
              "      <td>32.0</td>\n",
              "      <td>44.0</td>\n",
              "      <td>0.99490</td>\n",
              "      <td>3.45</td>\n",
              "      <td>0.58</td>\n",
              "      <td>10.5</td>\n",
              "      <td>5</td>\n",
              "    </tr>\n",
              "    <tr>\n",
              "      <th>1595</th>\n",
              "      <td>5.9</td>\n",
              "      <td>0.550</td>\n",
              "      <td>0.10</td>\n",
              "      <td>2.2</td>\n",
              "      <td>0.062</td>\n",
              "      <td>39.0</td>\n",
              "      <td>51.0</td>\n",
              "      <td>0.99512</td>\n",
              "      <td>3.52</td>\n",
              "      <td>0.76</td>\n",
              "      <td>11.2</td>\n",
              "      <td>6</td>\n",
              "    </tr>\n",
              "    <tr>\n",
              "      <th>1596</th>\n",
              "      <td>6.3</td>\n",
              "      <td>0.510</td>\n",
              "      <td>0.13</td>\n",
              "      <td>2.3</td>\n",
              "      <td>0.076</td>\n",
              "      <td>29.0</td>\n",
              "      <td>40.0</td>\n",
              "      <td>0.99574</td>\n",
              "      <td>3.42</td>\n",
              "      <td>0.75</td>\n",
              "      <td>11.0</td>\n",
              "      <td>6</td>\n",
              "    </tr>\n",
              "    <tr>\n",
              "      <th>1597</th>\n",
              "      <td>5.9</td>\n",
              "      <td>0.645</td>\n",
              "      <td>0.12</td>\n",
              "      <td>2.0</td>\n",
              "      <td>0.075</td>\n",
              "      <td>32.0</td>\n",
              "      <td>44.0</td>\n",
              "      <td>0.99547</td>\n",
              "      <td>3.57</td>\n",
              "      <td>0.71</td>\n",
              "      <td>10.2</td>\n",
              "      <td>5</td>\n",
              "    </tr>\n",
              "    <tr>\n",
              "      <th>1598</th>\n",
              "      <td>6.0</td>\n",
              "      <td>0.310</td>\n",
              "      <td>0.47</td>\n",
              "      <td>3.6</td>\n",
              "      <td>0.067</td>\n",
              "      <td>18.0</td>\n",
              "      <td>42.0</td>\n",
              "      <td>0.99549</td>\n",
              "      <td>3.39</td>\n",
              "      <td>0.66</td>\n",
              "      <td>11.0</td>\n",
              "      <td>6</td>\n",
              "    </tr>\n",
              "  </tbody>\n",
              "</table>\n",
              "<p>1599 rows × 12 columns</p>\n",
              "</div>\n",
              "      <button class=\"colab-df-convert\" onclick=\"convertToInteractive('df-8d6d8ff2-8097-42cc-9bbd-2ecf2c970530')\"\n",
              "              title=\"Convert this dataframe to an interactive table.\"\n",
              "              style=\"display:none;\">\n",
              "        \n",
              "  <svg xmlns=\"http://www.w3.org/2000/svg\" height=\"24px\"viewBox=\"0 0 24 24\"\n",
              "       width=\"24px\">\n",
              "    <path d=\"M0 0h24v24H0V0z\" fill=\"none\"/>\n",
              "    <path d=\"M18.56 5.44l.94 2.06.94-2.06 2.06-.94-2.06-.94-.94-2.06-.94 2.06-2.06.94zm-11 1L8.5 8.5l.94-2.06 2.06-.94-2.06-.94L8.5 2.5l-.94 2.06-2.06.94zm10 10l.94 2.06.94-2.06 2.06-.94-2.06-.94-.94-2.06-.94 2.06-2.06.94z\"/><path d=\"M17.41 7.96l-1.37-1.37c-.4-.4-.92-.59-1.43-.59-.52 0-1.04.2-1.43.59L10.3 9.45l-7.72 7.72c-.78.78-.78 2.05 0 2.83L4 21.41c.39.39.9.59 1.41.59.51 0 1.02-.2 1.41-.59l7.78-7.78 2.81-2.81c.8-.78.8-2.07 0-2.86zM5.41 20L4 18.59l7.72-7.72 1.47 1.35L5.41 20z\"/>\n",
              "  </svg>\n",
              "      </button>\n",
              "      \n",
              "  <style>\n",
              "    .colab-df-container {\n",
              "      display:flex;\n",
              "      flex-wrap:wrap;\n",
              "      gap: 12px;\n",
              "    }\n",
              "\n",
              "    .colab-df-convert {\n",
              "      background-color: #E8F0FE;\n",
              "      border: none;\n",
              "      border-radius: 50%;\n",
              "      cursor: pointer;\n",
              "      display: none;\n",
              "      fill: #1967D2;\n",
              "      height: 32px;\n",
              "      padding: 0 0 0 0;\n",
              "      width: 32px;\n",
              "    }\n",
              "\n",
              "    .colab-df-convert:hover {\n",
              "      background-color: #E2EBFA;\n",
              "      box-shadow: 0px 1px 2px rgba(60, 64, 67, 0.3), 0px 1px 3px 1px rgba(60, 64, 67, 0.15);\n",
              "      fill: #174EA6;\n",
              "    }\n",
              "\n",
              "    [theme=dark] .colab-df-convert {\n",
              "      background-color: #3B4455;\n",
              "      fill: #D2E3FC;\n",
              "    }\n",
              "\n",
              "    [theme=dark] .colab-df-convert:hover {\n",
              "      background-color: #434B5C;\n",
              "      box-shadow: 0px 1px 3px 1px rgba(0, 0, 0, 0.15);\n",
              "      filter: drop-shadow(0px 1px 2px rgba(0, 0, 0, 0.3));\n",
              "      fill: #FFFFFF;\n",
              "    }\n",
              "  </style>\n",
              "\n",
              "      <script>\n",
              "        const buttonEl =\n",
              "          document.querySelector('#df-8d6d8ff2-8097-42cc-9bbd-2ecf2c970530 button.colab-df-convert');\n",
              "        buttonEl.style.display =\n",
              "          google.colab.kernel.accessAllowed ? 'block' : 'none';\n",
              "\n",
              "        async function convertToInteractive(key) {\n",
              "          const element = document.querySelector('#df-8d6d8ff2-8097-42cc-9bbd-2ecf2c970530');\n",
              "          const dataTable =\n",
              "            await google.colab.kernel.invokeFunction('convertToInteractive',\n",
              "                                                     [key], {});\n",
              "          if (!dataTable) return;\n",
              "\n",
              "          const docLinkHtml = 'Like what you see? Visit the ' +\n",
              "            '<a target=\"_blank\" href=https://colab.research.google.com/notebooks/data_table.ipynb>data table notebook</a>'\n",
              "            + ' to learn more about interactive tables.';\n",
              "          element.innerHTML = '';\n",
              "          dataTable['output_type'] = 'display_data';\n",
              "          await google.colab.output.renderOutput(dataTable, element);\n",
              "          const docLink = document.createElement('div');\n",
              "          docLink.innerHTML = docLinkHtml;\n",
              "          element.appendChild(docLink);\n",
              "        }\n",
              "      </script>\n",
              "    </div>\n",
              "  </div>\n",
              "  "
            ]
          },
          "metadata": {},
          "execution_count": 4
        }
      ],
      "source": [
        "red_wine"
      ]
    },
    {
      "cell_type": "code",
      "execution_count": null,
      "metadata": {
        "colab": {
          "base_uri": "https://localhost:8080/"
        },
        "id": "ZUt888a4crgr",
        "outputId": "f0d0c177-1e4f-435a-9c7a-64a962e7fdde"
      },
      "outputs": [
        {
          "output_type": "stream",
          "name": "stdout",
          "text": [
            "(1279, 11)\n",
            "(320, 11)\n",
            "(1279,)\n",
            "(320,)\n"
          ]
        }
      ],
      "source": [
        "x_train,x_test,y_train,y_test = train_test_split(x,y,test_size=0.2,random_state=1) #다른 모델 사용시 일관성을 주기위한 rmadaom_state\n",
        "\n",
        "print(x_train.shape)\n",
        "print(x_test.shape)\n",
        "print(y_train.shape)\n",
        "print(y_test.shape)"
      ]
    },
    {
      "cell_type": "code",
      "execution_count": null,
      "metadata": {
        "id": "aVf7VHmTd6I5"
      },
      "outputs": [],
      "source": [
        "sc = StandardScaler() #표준화\n",
        "x_train = sc.fit_transform(x_train) #학습 데이터는 fit 사용 \n",
        "x_test = sc.transform(x_test)  #테스트 데이터는 fit 사용하면 안됌."
      ]
    },
    {
      "cell_type": "code",
      "execution_count": null,
      "metadata": {
        "colab": {
          "base_uri": "https://localhost:8080/",
          "height": 300
        },
        "id": "v8bGY_i3m4qG",
        "outputId": "fd303d87-1dfc-45a6-cc25-71e99aac4230"
      },
      "outputs": [
        {
          "output_type": "execute_result",
          "data": {
            "text/plain": [
              "       fixed acidity  volatile acidity  citric acid  residual sugar  \\\n",
              "count    1599.000000       1599.000000  1599.000000     1599.000000   \n",
              "mean        8.319637          0.527821     0.270976        2.538806   \n",
              "std         1.741096          0.179060     0.194801        1.409928   \n",
              "min         4.600000          0.120000     0.000000        0.900000   \n",
              "25%         7.100000          0.390000     0.090000        1.900000   \n",
              "50%         7.900000          0.520000     0.260000        2.200000   \n",
              "75%         9.200000          0.640000     0.420000        2.600000   \n",
              "max        15.900000          1.580000     1.000000       15.500000   \n",
              "\n",
              "         chlorides  free sulfur dioxide  total sulfur dioxide      density  \\\n",
              "count  1599.000000          1599.000000           1599.000000  1599.000000   \n",
              "mean      0.087467            15.874922             46.467792     0.996747   \n",
              "std       0.047065            10.460157             32.895324     0.001887   \n",
              "min       0.012000             1.000000              6.000000     0.990070   \n",
              "25%       0.070000             7.000000             22.000000     0.995600   \n",
              "50%       0.079000            14.000000             38.000000     0.996750   \n",
              "75%       0.090000            21.000000             62.000000     0.997835   \n",
              "max       0.611000            72.000000            289.000000     1.003690   \n",
              "\n",
              "                pH    sulphates      alcohol      quality  \n",
              "count  1599.000000  1599.000000  1599.000000  1599.000000  \n",
              "mean      3.311113     0.658149    10.422983     5.636023  \n",
              "std       0.154386     0.169507     1.065668     0.807569  \n",
              "min       2.740000     0.330000     8.400000     3.000000  \n",
              "25%       3.210000     0.550000     9.500000     5.000000  \n",
              "50%       3.310000     0.620000    10.200000     6.000000  \n",
              "75%       3.400000     0.730000    11.100000     6.000000  \n",
              "max       4.010000     2.000000    14.900000     8.000000  "
            ],
            "text/html": [
              "\n",
              "  <div id=\"df-0e007439-cf83-44eb-9e06-650f28faa6fd\">\n",
              "    <div class=\"colab-df-container\">\n",
              "      <div>\n",
              "<style scoped>\n",
              "    .dataframe tbody tr th:only-of-type {\n",
              "        vertical-align: middle;\n",
              "    }\n",
              "\n",
              "    .dataframe tbody tr th {\n",
              "        vertical-align: top;\n",
              "    }\n",
              "\n",
              "    .dataframe thead th {\n",
              "        text-align: right;\n",
              "    }\n",
              "</style>\n",
              "<table border=\"1\" class=\"dataframe\">\n",
              "  <thead>\n",
              "    <tr style=\"text-align: right;\">\n",
              "      <th></th>\n",
              "      <th>fixed acidity</th>\n",
              "      <th>volatile acidity</th>\n",
              "      <th>citric acid</th>\n",
              "      <th>residual sugar</th>\n",
              "      <th>chlorides</th>\n",
              "      <th>free sulfur dioxide</th>\n",
              "      <th>total sulfur dioxide</th>\n",
              "      <th>density</th>\n",
              "      <th>pH</th>\n",
              "      <th>sulphates</th>\n",
              "      <th>alcohol</th>\n",
              "      <th>quality</th>\n",
              "    </tr>\n",
              "  </thead>\n",
              "  <tbody>\n",
              "    <tr>\n",
              "      <th>count</th>\n",
              "      <td>1599.000000</td>\n",
              "      <td>1599.000000</td>\n",
              "      <td>1599.000000</td>\n",
              "      <td>1599.000000</td>\n",
              "      <td>1599.000000</td>\n",
              "      <td>1599.000000</td>\n",
              "      <td>1599.000000</td>\n",
              "      <td>1599.000000</td>\n",
              "      <td>1599.000000</td>\n",
              "      <td>1599.000000</td>\n",
              "      <td>1599.000000</td>\n",
              "      <td>1599.000000</td>\n",
              "    </tr>\n",
              "    <tr>\n",
              "      <th>mean</th>\n",
              "      <td>8.319637</td>\n",
              "      <td>0.527821</td>\n",
              "      <td>0.270976</td>\n",
              "      <td>2.538806</td>\n",
              "      <td>0.087467</td>\n",
              "      <td>15.874922</td>\n",
              "      <td>46.467792</td>\n",
              "      <td>0.996747</td>\n",
              "      <td>3.311113</td>\n",
              "      <td>0.658149</td>\n",
              "      <td>10.422983</td>\n",
              "      <td>5.636023</td>\n",
              "    </tr>\n",
              "    <tr>\n",
              "      <th>std</th>\n",
              "      <td>1.741096</td>\n",
              "      <td>0.179060</td>\n",
              "      <td>0.194801</td>\n",
              "      <td>1.409928</td>\n",
              "      <td>0.047065</td>\n",
              "      <td>10.460157</td>\n",
              "      <td>32.895324</td>\n",
              "      <td>0.001887</td>\n",
              "      <td>0.154386</td>\n",
              "      <td>0.169507</td>\n",
              "      <td>1.065668</td>\n",
              "      <td>0.807569</td>\n",
              "    </tr>\n",
              "    <tr>\n",
              "      <th>min</th>\n",
              "      <td>4.600000</td>\n",
              "      <td>0.120000</td>\n",
              "      <td>0.000000</td>\n",
              "      <td>0.900000</td>\n",
              "      <td>0.012000</td>\n",
              "      <td>1.000000</td>\n",
              "      <td>6.000000</td>\n",
              "      <td>0.990070</td>\n",
              "      <td>2.740000</td>\n",
              "      <td>0.330000</td>\n",
              "      <td>8.400000</td>\n",
              "      <td>3.000000</td>\n",
              "    </tr>\n",
              "    <tr>\n",
              "      <th>25%</th>\n",
              "      <td>7.100000</td>\n",
              "      <td>0.390000</td>\n",
              "      <td>0.090000</td>\n",
              "      <td>1.900000</td>\n",
              "      <td>0.070000</td>\n",
              "      <td>7.000000</td>\n",
              "      <td>22.000000</td>\n",
              "      <td>0.995600</td>\n",
              "      <td>3.210000</td>\n",
              "      <td>0.550000</td>\n",
              "      <td>9.500000</td>\n",
              "      <td>5.000000</td>\n",
              "    </tr>\n",
              "    <tr>\n",
              "      <th>50%</th>\n",
              "      <td>7.900000</td>\n",
              "      <td>0.520000</td>\n",
              "      <td>0.260000</td>\n",
              "      <td>2.200000</td>\n",
              "      <td>0.079000</td>\n",
              "      <td>14.000000</td>\n",
              "      <td>38.000000</td>\n",
              "      <td>0.996750</td>\n",
              "      <td>3.310000</td>\n",
              "      <td>0.620000</td>\n",
              "      <td>10.200000</td>\n",
              "      <td>6.000000</td>\n",
              "    </tr>\n",
              "    <tr>\n",
              "      <th>75%</th>\n",
              "      <td>9.200000</td>\n",
              "      <td>0.640000</td>\n",
              "      <td>0.420000</td>\n",
              "      <td>2.600000</td>\n",
              "      <td>0.090000</td>\n",
              "      <td>21.000000</td>\n",
              "      <td>62.000000</td>\n",
              "      <td>0.997835</td>\n",
              "      <td>3.400000</td>\n",
              "      <td>0.730000</td>\n",
              "      <td>11.100000</td>\n",
              "      <td>6.000000</td>\n",
              "    </tr>\n",
              "    <tr>\n",
              "      <th>max</th>\n",
              "      <td>15.900000</td>\n",
              "      <td>1.580000</td>\n",
              "      <td>1.000000</td>\n",
              "      <td>15.500000</td>\n",
              "      <td>0.611000</td>\n",
              "      <td>72.000000</td>\n",
              "      <td>289.000000</td>\n",
              "      <td>1.003690</td>\n",
              "      <td>4.010000</td>\n",
              "      <td>2.000000</td>\n",
              "      <td>14.900000</td>\n",
              "      <td>8.000000</td>\n",
              "    </tr>\n",
              "  </tbody>\n",
              "</table>\n",
              "</div>\n",
              "      <button class=\"colab-df-convert\" onclick=\"convertToInteractive('df-0e007439-cf83-44eb-9e06-650f28faa6fd')\"\n",
              "              title=\"Convert this dataframe to an interactive table.\"\n",
              "              style=\"display:none;\">\n",
              "        \n",
              "  <svg xmlns=\"http://www.w3.org/2000/svg\" height=\"24px\"viewBox=\"0 0 24 24\"\n",
              "       width=\"24px\">\n",
              "    <path d=\"M0 0h24v24H0V0z\" fill=\"none\"/>\n",
              "    <path d=\"M18.56 5.44l.94 2.06.94-2.06 2.06-.94-2.06-.94-.94-2.06-.94 2.06-2.06.94zm-11 1L8.5 8.5l.94-2.06 2.06-.94-2.06-.94L8.5 2.5l-.94 2.06-2.06.94zm10 10l.94 2.06.94-2.06 2.06-.94-2.06-.94-.94-2.06-.94 2.06-2.06.94z\"/><path d=\"M17.41 7.96l-1.37-1.37c-.4-.4-.92-.59-1.43-.59-.52 0-1.04.2-1.43.59L10.3 9.45l-7.72 7.72c-.78.78-.78 2.05 0 2.83L4 21.41c.39.39.9.59 1.41.59.51 0 1.02-.2 1.41-.59l7.78-7.78 2.81-2.81c.8-.78.8-2.07 0-2.86zM5.41 20L4 18.59l7.72-7.72 1.47 1.35L5.41 20z\"/>\n",
              "  </svg>\n",
              "      </button>\n",
              "      \n",
              "  <style>\n",
              "    .colab-df-container {\n",
              "      display:flex;\n",
              "      flex-wrap:wrap;\n",
              "      gap: 12px;\n",
              "    }\n",
              "\n",
              "    .colab-df-convert {\n",
              "      background-color: #E8F0FE;\n",
              "      border: none;\n",
              "      border-radius: 50%;\n",
              "      cursor: pointer;\n",
              "      display: none;\n",
              "      fill: #1967D2;\n",
              "      height: 32px;\n",
              "      padding: 0 0 0 0;\n",
              "      width: 32px;\n",
              "    }\n",
              "\n",
              "    .colab-df-convert:hover {\n",
              "      background-color: #E2EBFA;\n",
              "      box-shadow: 0px 1px 2px rgba(60, 64, 67, 0.3), 0px 1px 3px 1px rgba(60, 64, 67, 0.15);\n",
              "      fill: #174EA6;\n",
              "    }\n",
              "\n",
              "    [theme=dark] .colab-df-convert {\n",
              "      background-color: #3B4455;\n",
              "      fill: #D2E3FC;\n",
              "    }\n",
              "\n",
              "    [theme=dark] .colab-df-convert:hover {\n",
              "      background-color: #434B5C;\n",
              "      box-shadow: 0px 1px 3px 1px rgba(0, 0, 0, 0.15);\n",
              "      filter: drop-shadow(0px 1px 2px rgba(0, 0, 0, 0.3));\n",
              "      fill: #FFFFFF;\n",
              "    }\n",
              "  </style>\n",
              "\n",
              "      <script>\n",
              "        const buttonEl =\n",
              "          document.querySelector('#df-0e007439-cf83-44eb-9e06-650f28faa6fd button.colab-df-convert');\n",
              "        buttonEl.style.display =\n",
              "          google.colab.kernel.accessAllowed ? 'block' : 'none';\n",
              "\n",
              "        async function convertToInteractive(key) {\n",
              "          const element = document.querySelector('#df-0e007439-cf83-44eb-9e06-650f28faa6fd');\n",
              "          const dataTable =\n",
              "            await google.colab.kernel.invokeFunction('convertToInteractive',\n",
              "                                                     [key], {});\n",
              "          if (!dataTable) return;\n",
              "\n",
              "          const docLinkHtml = 'Like what you see? Visit the ' +\n",
              "            '<a target=\"_blank\" href=https://colab.research.google.com/notebooks/data_table.ipynb>data table notebook</a>'\n",
              "            + ' to learn more about interactive tables.';\n",
              "          element.innerHTML = '';\n",
              "          dataTable['output_type'] = 'display_data';\n",
              "          await google.colab.output.renderOutput(dataTable, element);\n",
              "          const docLink = document.createElement('div');\n",
              "          docLink.innerHTML = docLinkHtml;\n",
              "          element.appendChild(docLink);\n",
              "        }\n",
              "      </script>\n",
              "    </div>\n",
              "  </div>\n",
              "  "
            ]
          },
          "metadata": {},
          "execution_count": 7
        }
      ],
      "source": [
        "red_wine.describe()"
      ]
    },
    {
      "cell_type": "code",
      "execution_count": null,
      "metadata": {
        "id": "VLqpQWRfm4qH"
      },
      "outputs": [],
      "source": [
        "from tensorflow import keras\n",
        "from tensorflow.keras import layers\n",
        "#레이어 만듬 \n",
        "model = keras.Sequential([\n",
        "    layers.Dense(1024, activation='relu', input_shape=[11]),\n",
        "    layers.Dropout(0.3),\n",
        "    layers.BatchNormalization(),\n",
        "    layers.Dense(2024, activation='relu'),  #히든 레이어는 activation를 relu로\n",
        "    layers.Dropout(0.3),   #오버피팅 막기위해 드랍아웃 30%\n",
        "    layers.BatchNormalization(),  #베치라이제이션 또한 오버피팅 막기위해서\n",
        "    layers.Dense(4048, activation='relu'),\n",
        "    layers.Dropout(0.3),\n",
        "    layers.BatchNormalization(),\n",
        "    layers.Dense(2024, activation='relu'),\n",
        "    layers.Dropout(0.3),\n",
        "    layers.BatchNormalization(),\n",
        "    layers.Dense(1024, activation='relu'),\n",
        "    layers.Dropout(0.3),\n",
        "    layers.BatchNormalization(),\n",
        "    layers.Dense(1),\n",
        "])   #항아리 모양식 레이어"
      ]
    },
    {
      "cell_type": "code",
      "execution_count": null,
      "metadata": {
        "id": "6v2iGIe6Xuz5"
      },
      "outputs": [],
      "source": [
        " from tensorflow import keras\n",
        " from tensorflow.keras import layers, callbacks\n",
        "#콜백 라이브러리 만듬.\n",
        " early_stopping = callbacks.EarlyStopping(\n",
        "     min_delta=0.001, # minimium amount of change to count as an improvement\n",
        "     patience=20, # how many epochs to wait before stopping\n",
        "    restore_best_weights=True,\n",
        " )"
      ]
    },
    {
      "cell_type": "code",
      "execution_count": null,
      "metadata": {
        "id": "3eMdsFmAm4qH"
      },
      "outputs": [],
      "source": [
        "model.compile(\n",
        "    optimizer='adam', #sgd,rmsprop adam등 이 있는데 adam 사용\n",
        "    loss='mae', \n",
        ")"
      ]
    },
    {
      "cell_type": "code",
      "execution_count": null,
      "metadata": {
        "colab": {
          "base_uri": "https://localhost:8080/"
        },
        "id": "OgOoIThoaID_",
        "outputId": "99d2931b-c2e7-496b-c43a-ab1c6977cbe1"
      },
      "outputs": [
        {
          "output_type": "stream",
          "name": "stdout",
          "text": [
            "Model: \"sequential\"\n",
            "_________________________________________________________________\n",
            " Layer (type)                Output Shape              Param #   \n",
            "=================================================================\n",
            " dense (Dense)               (None, 1024)              12288     \n",
            "                                                                 \n",
            " dropout (Dropout)           (None, 1024)              0         \n",
            "                                                                 \n",
            " batch_normalization (BatchN  (None, 1024)             4096      \n",
            " ormalization)                                                   \n",
            "                                                                 \n",
            " dense_1 (Dense)             (None, 2024)              2074600   \n",
            "                                                                 \n",
            " dropout_1 (Dropout)         (None, 2024)              0         \n",
            "                                                                 \n",
            " batch_normalization_1 (Batc  (None, 2024)             8096      \n",
            " hNormalization)                                                 \n",
            "                                                                 \n",
            " dense_2 (Dense)             (None, 4048)              8197200   \n",
            "                                                                 \n",
            " dropout_2 (Dropout)         (None, 4048)              0         \n",
            "                                                                 \n",
            " batch_normalization_2 (Batc  (None, 4048)             16192     \n",
            " hNormalization)                                                 \n",
            "                                                                 \n",
            " dense_3 (Dense)             (None, 2024)              8195176   \n",
            "                                                                 \n",
            " dropout_3 (Dropout)         (None, 2024)              0         \n",
            "                                                                 \n",
            " batch_normalization_3 (Batc  (None, 2024)             8096      \n",
            " hNormalization)                                                 \n",
            "                                                                 \n",
            " dense_4 (Dense)             (None, 1024)              2073600   \n",
            "                                                                 \n",
            " dropout_4 (Dropout)         (None, 1024)              0         \n",
            "                                                                 \n",
            " batch_normalization_4 (Batc  (None, 1024)             4096      \n",
            " hNormalization)                                                 \n",
            "                                                                 \n",
            " dense_5 (Dense)             (None, 1)                 1025      \n",
            "                                                                 \n",
            "=================================================================\n",
            "Total params: 20,594,465\n",
            "Trainable params: 20,574,177\n",
            "Non-trainable params: 20,288\n",
            "_________________________________________________________________\n"
          ]
        }
      ],
      "source": [
        "model.summary()  #모델 요약"
      ]
    },
    {
      "cell_type": "code",
      "execution_count": null,
      "metadata": {
        "id": "jOeEi7ppaDGQ",
        "colab": {
          "base_uri": "https://localhost:8080/"
        },
        "outputId": "d7df00be-1759-42a9-a9ab-102ac0595796"
      },
      "outputs": [
        {
          "output_type": "stream",
          "name": "stdout",
          "text": [
            "Epoch 1/300\n",
            "5/5 [==============================] - 3s 256ms/step - loss: 5.5737 - val_loss: 5.2973\n",
            "Epoch 2/300\n",
            "5/5 [==============================] - 0s 93ms/step - loss: 5.4578 - val_loss: 5.1939\n",
            "Epoch 3/300\n",
            "5/5 [==============================] - 0s 77ms/step - loss: 5.2457 - val_loss: 4.2870\n",
            "Epoch 4/300\n",
            "5/5 [==============================] - 0s 76ms/step - loss: 4.9946 - val_loss: 4.2188\n",
            "Epoch 5/300\n",
            "5/5 [==============================] - 0s 86ms/step - loss: 4.7683 - val_loss: 3.9152\n",
            "Epoch 6/300\n",
            "5/5 [==============================] - 0s 74ms/step - loss: 4.4824 - val_loss: 3.1083\n",
            "Epoch 7/300\n",
            "5/5 [==============================] - 0s 86ms/step - loss: 4.1587 - val_loss: 2.9056\n",
            "Epoch 8/300\n",
            "5/5 [==============================] - 0s 77ms/step - loss: 3.7811 - val_loss: 2.8049\n",
            "Epoch 9/300\n",
            "5/5 [==============================] - 0s 65ms/step - loss: 3.3299 - val_loss: 2.6843\n",
            "Epoch 10/300\n",
            "5/5 [==============================] - 0s 80ms/step - loss: 2.8333 - val_loss: 2.3359\n",
            "Epoch 11/300\n",
            "5/5 [==============================] - 0s 54ms/step - loss: 2.3531 - val_loss: 2.6922\n",
            "Epoch 12/300\n",
            "5/5 [==============================] - 0s 72ms/step - loss: 2.0206 - val_loss: 1.2423\n",
            "Epoch 13/300\n",
            "5/5 [==============================] - 0s 81ms/step - loss: 1.6381 - val_loss: 1.1770\n",
            "Epoch 14/300\n",
            "5/5 [==============================] - 0s 54ms/step - loss: 1.4261 - val_loss: 1.8477\n",
            "Epoch 15/300\n",
            "5/5 [==============================] - 0s 75ms/step - loss: 1.3121 - val_loss: 0.9711\n",
            "Epoch 16/300\n",
            "5/5 [==============================] - 0s 75ms/step - loss: 1.2231 - val_loss: 3.3235\n",
            "Epoch 17/300\n",
            "5/5 [==============================] - 0s 93ms/step - loss: 1.1832 - val_loss: 0.8228\n",
            "Epoch 18/300\n",
            "5/5 [==============================] - 0s 61ms/step - loss: 1.0482 - val_loss: 1.9242\n",
            "Epoch 19/300\n",
            "5/5 [==============================] - 0s 61ms/step - loss: 1.0825 - val_loss: 1.6826\n",
            "Epoch 20/300\n",
            "5/5 [==============================] - 0s 83ms/step - loss: 1.0069 - val_loss: 0.7683\n",
            "Epoch 21/300\n",
            "5/5 [==============================] - 0s 57ms/step - loss: 0.9519 - val_loss: 1.2819\n",
            "Epoch 22/300\n",
            "5/5 [==============================] - 0s 77ms/step - loss: 0.9910 - val_loss: 0.7615\n",
            "Epoch 23/300\n",
            "5/5 [==============================] - 0s 58ms/step - loss: 0.9188 - val_loss: 0.8872\n",
            "Epoch 24/300\n",
            "5/5 [==============================] - 0s 100ms/step - loss: 0.8912 - val_loss: 0.7495\n",
            "Epoch 25/300\n",
            "5/5 [==============================] - 0s 67ms/step - loss: 0.8541 - val_loss: 0.5692\n",
            "Epoch 26/300\n",
            "5/5 [==============================] - 0s 72ms/step - loss: 0.8367 - val_loss: 0.5546\n",
            "Epoch 27/300\n",
            "5/5 [==============================] - 0s 69ms/step - loss: 0.8372 - val_loss: 0.5621\n",
            "Epoch 28/300\n",
            "5/5 [==============================] - 0s 53ms/step - loss: 0.8818 - val_loss: 0.6291\n",
            "Epoch 29/300\n",
            "5/5 [==============================] - 0s 62ms/step - loss: 0.8131 - val_loss: 0.6443\n",
            "Epoch 30/300\n",
            "5/5 [==============================] - 0s 54ms/step - loss: 0.8024 - val_loss: 0.6153\n",
            "Epoch 31/300\n",
            "5/5 [==============================] - 0s 53ms/step - loss: 0.8036 - val_loss: 0.7333\n",
            "Epoch 32/300\n",
            "5/5 [==============================] - 0s 70ms/step - loss: 0.7197 - val_loss: 0.5921\n",
            "Epoch 33/300\n",
            "5/5 [==============================] - 0s 63ms/step - loss: 0.7337 - val_loss: 0.6689\n",
            "Epoch 34/300\n",
            "5/5 [==============================] - 0s 65ms/step - loss: 0.7725 - val_loss: 0.7099\n",
            "Epoch 35/300\n",
            "5/5 [==============================] - 0s 87ms/step - loss: 0.7215 - val_loss: 0.5786\n",
            "Epoch 36/300\n",
            "5/5 [==============================] - 0s 109ms/step - loss: 0.6885 - val_loss: 0.5345\n",
            "Epoch 37/300\n",
            "5/5 [==============================] - 0s 67ms/step - loss: 0.7193 - val_loss: 0.6170\n",
            "Epoch 38/300\n",
            "5/5 [==============================] - 0s 87ms/step - loss: 0.6696 - val_loss: 0.6242\n",
            "Epoch 39/300\n",
            "5/5 [==============================] - 0s 63ms/step - loss: 0.6834 - val_loss: 0.5657\n",
            "Epoch 40/300\n",
            "5/5 [==============================] - 0s 59ms/step - loss: 0.7160 - val_loss: 0.5953\n",
            "Epoch 41/300\n",
            "5/5 [==============================] - 0s 60ms/step - loss: 0.6857 - val_loss: 0.5657\n",
            "Epoch 42/300\n",
            "5/5 [==============================] - 0s 61ms/step - loss: 0.6478 - val_loss: 0.5942\n",
            "Epoch 43/300\n",
            "5/5 [==============================] - 0s 59ms/step - loss: 0.6894 - val_loss: 0.6048\n",
            "Epoch 44/300\n",
            "5/5 [==============================] - 0s 61ms/step - loss: 0.6252 - val_loss: 0.6015\n",
            "Epoch 45/300\n",
            "5/5 [==============================] - 0s 58ms/step - loss: 0.6456 - val_loss: 0.5531\n",
            "Epoch 46/300\n",
            "5/5 [==============================] - 0s 73ms/step - loss: 0.6567 - val_loss: 0.5344\n",
            "Epoch 47/300\n",
            "5/5 [==============================] - 0s 73ms/step - loss: 0.6059 - val_loss: 0.5558\n",
            "Epoch 48/300\n",
            "5/5 [==============================] - 0s 76ms/step - loss: 0.6444 - val_loss: 0.5659\n",
            "Epoch 49/300\n",
            "5/5 [==============================] - 0s 88ms/step - loss: 0.6522 - val_loss: 0.5619\n",
            "Epoch 50/300\n",
            "5/5 [==============================] - 0s 66ms/step - loss: 0.5984 - val_loss: 0.5332\n",
            "Epoch 51/300\n",
            "5/5 [==============================] - 0s 61ms/step - loss: 0.6445 - val_loss: 0.5742\n",
            "Epoch 52/300\n",
            "5/5 [==============================] - 0s 74ms/step - loss: 0.5782 - val_loss: 0.5543\n",
            "Epoch 53/300\n",
            "5/5 [==============================] - 0s 55ms/step - loss: 0.5474 - val_loss: 0.5384\n",
            "Epoch 54/300\n",
            "5/5 [==============================] - 0s 95ms/step - loss: 0.5747 - val_loss: 0.5317\n",
            "Epoch 55/300\n",
            "5/5 [==============================] - 0s 68ms/step - loss: 0.5794 - val_loss: 0.5774\n",
            "Epoch 56/300\n",
            "5/5 [==============================] - 0s 87ms/step - loss: 0.5841 - val_loss: 0.6103\n",
            "Epoch 57/300\n",
            "5/5 [==============================] - 0s 67ms/step - loss: 0.6513 - val_loss: 0.6099\n",
            "Epoch 58/300\n",
            "5/5 [==============================] - 0s 55ms/step - loss: 0.5819 - val_loss: 0.5616\n",
            "Epoch 59/300\n",
            "5/5 [==============================] - 0s 60ms/step - loss: 0.5698 - val_loss: 0.5456\n",
            "Epoch 60/300\n",
            "5/5 [==============================] - 0s 83ms/step - loss: 0.5933 - val_loss: 0.5222\n",
            "Epoch 61/300\n",
            "5/5 [==============================] - 0s 53ms/step - loss: 0.5954 - val_loss: 0.5771\n",
            "Epoch 62/300\n",
            "5/5 [==============================] - 0s 69ms/step - loss: 0.5729 - val_loss: 0.5367\n",
            "Epoch 63/300\n",
            "5/5 [==============================] - 0s 54ms/step - loss: 0.5596 - val_loss: 0.5721\n",
            "Epoch 64/300\n",
            "5/5 [==============================] - 0s 58ms/step - loss: 0.5490 - val_loss: 0.5551\n",
            "Epoch 65/300\n",
            "5/5 [==============================] - 0s 54ms/step - loss: 0.5565 - val_loss: 0.5809\n",
            "Epoch 66/300\n",
            "5/5 [==============================] - 0s 62ms/step - loss: 0.5723 - val_loss: 0.5651\n",
            "Epoch 67/300\n",
            "5/5 [==============================] - 0s 55ms/step - loss: 0.5881 - val_loss: 0.5369\n",
            "Epoch 68/300\n",
            "5/5 [==============================] - 0s 53ms/step - loss: 0.5061 - val_loss: 0.5264\n",
            "Epoch 69/300\n",
            "5/5 [==============================] - 0s 55ms/step - loss: 0.5224 - val_loss: 0.5234\n",
            "Epoch 70/300\n",
            "5/5 [==============================] - 0s 56ms/step - loss: 0.5468 - val_loss: 0.5568\n",
            "Epoch 71/300\n",
            "5/5 [==============================] - 0s 54ms/step - loss: 0.5584 - val_loss: 0.5384\n",
            "Epoch 72/300\n",
            "5/5 [==============================] - 0s 53ms/step - loss: 0.5263 - val_loss: 0.5275\n",
            "Epoch 73/300\n",
            "5/5 [==============================] - 0s 77ms/step - loss: 0.5391 - val_loss: 0.4734\n",
            "Epoch 74/300\n",
            "5/5 [==============================] - 0s 62ms/step - loss: 0.5547 - val_loss: 0.5065\n",
            "Epoch 75/300\n",
            "5/5 [==============================] - 0s 61ms/step - loss: 0.5354 - val_loss: 0.5233\n",
            "Epoch 76/300\n",
            "5/5 [==============================] - 0s 59ms/step - loss: 0.5321 - val_loss: 0.5661\n",
            "Epoch 77/300\n",
            "5/5 [==============================] - 0s 69ms/step - loss: 0.5247 - val_loss: 0.5388\n",
            "Epoch 78/300\n",
            "5/5 [==============================] - 0s 80ms/step - loss: 0.5146 - val_loss: 0.5555\n",
            "Epoch 79/300\n",
            "5/5 [==============================] - 0s 57ms/step - loss: 0.5547 - val_loss: 0.4969\n",
            "Epoch 80/300\n",
            "5/5 [==============================] - 0s 63ms/step - loss: 0.5224 - val_loss: 0.5344\n",
            "Epoch 81/300\n",
            "5/5 [==============================] - 0s 54ms/step - loss: 0.5521 - val_loss: 0.5325\n",
            "Epoch 82/300\n",
            "5/5 [==============================] - 0s 55ms/step - loss: 0.5159 - val_loss: 0.5291\n",
            "Epoch 83/300\n",
            "5/5 [==============================] - 0s 52ms/step - loss: 0.5009 - val_loss: 0.5803\n",
            "Epoch 84/300\n",
            "5/5 [==============================] - 0s 56ms/step - loss: 0.4909 - val_loss: 0.5559\n",
            "Epoch 85/300\n",
            "5/5 [==============================] - 0s 66ms/step - loss: 0.5550 - val_loss: 0.5866\n",
            "Epoch 86/300\n",
            "5/5 [==============================] - 0s 71ms/step - loss: 0.4942 - val_loss: 0.4996\n",
            "Epoch 87/300\n",
            "5/5 [==============================] - 0s 72ms/step - loss: 0.5017 - val_loss: 0.4454\n",
            "Epoch 88/300\n",
            "5/5 [==============================] - 0s 60ms/step - loss: 0.4949 - val_loss: 0.5053\n",
            "Epoch 89/300\n",
            "5/5 [==============================] - 0s 73ms/step - loss: 0.5383 - val_loss: 0.5017\n",
            "Epoch 90/300\n",
            "5/5 [==============================] - 0s 52ms/step - loss: 0.4836 - val_loss: 0.6236\n",
            "Epoch 91/300\n",
            "5/5 [==============================] - 0s 55ms/step - loss: 0.4993 - val_loss: 0.5449\n",
            "Epoch 92/300\n",
            "5/5 [==============================] - 0s 67ms/step - loss: 0.5135 - val_loss: 0.4842\n",
            "Epoch 93/300\n",
            "5/5 [==============================] - 0s 51ms/step - loss: 0.5017 - val_loss: 0.4801\n",
            "Epoch 94/300\n",
            "5/5 [==============================] - 0s 54ms/step - loss: 0.4583 - val_loss: 0.4735\n",
            "Epoch 95/300\n",
            "5/5 [==============================] - 0s 63ms/step - loss: 0.4573 - val_loss: 0.4794\n",
            "Epoch 96/300\n",
            "5/5 [==============================] - 0s 95ms/step - loss: 0.4411 - val_loss: 0.4653\n",
            "Epoch 97/300\n",
            "5/5 [==============================] - 0s 82ms/step - loss: 0.4616 - val_loss: 0.4783\n",
            "Epoch 98/300\n",
            "5/5 [==============================] - 0s 68ms/step - loss: 0.4827 - val_loss: 0.5279\n",
            "Epoch 99/300\n",
            "5/5 [==============================] - 0s 76ms/step - loss: 0.4650 - val_loss: 0.4823\n",
            "Epoch 100/300\n",
            "5/5 [==============================] - 0s 57ms/step - loss: 0.4720 - val_loss: 0.4840\n",
            "Epoch 101/300\n",
            "5/5 [==============================] - 0s 49ms/step - loss: 0.4910 - val_loss: 0.5016\n",
            "Epoch 102/300\n",
            "5/5 [==============================] - 0s 58ms/step - loss: 0.4673 - val_loss: 0.5318\n",
            "Epoch 103/300\n",
            "5/5 [==============================] - 0s 52ms/step - loss: 0.4572 - val_loss: 0.5312\n",
            "Epoch 104/300\n",
            "5/5 [==============================] - 0s 64ms/step - loss: 0.4847 - val_loss: 0.4712\n",
            "Epoch 105/300\n",
            "5/5 [==============================] - 0s 58ms/step - loss: 0.4403 - val_loss: 0.4514\n",
            "Epoch 106/300\n",
            "5/5 [==============================] - 0s 64ms/step - loss: 0.4515 - val_loss: 0.4546\n",
            "Epoch 107/300\n",
            "5/5 [==============================] - 0s 71ms/step - loss: 0.4813 - val_loss: 0.4871\n"
          ]
        }
      ],
      "source": [
        "history = model.fit(\n",
        "    x_train, y_train,\n",
        "    validation_data=(x_test, y_test),\n",
        "    batch_size=256,\n",
        "    epochs=300,  #입학 횟수 \n",
        "    callbacks=[early_stopping],  #얼리 스탑 기동여부\n",
        "    verbose=1  #보드를 보여주냐 마냐 없으면 그냥 보여주는걸로 기본값 설정 되어 있음.\n",
        ")"
      ]
    },
    {
      "cell_type": "code",
      "execution_count": null,
      "metadata": {
        "colab": {
          "base_uri": "https://localhost:8080/",
          "height": 283
        },
        "id": "3JH2xgHWYZA5",
        "outputId": "595e07fc-0ed8-46f6-be31-245a6e490914"
      },
      "outputs": [
        {
          "output_type": "stream",
          "name": "stdout",
          "text": [
            "Minimum Validation Loss: 0.4454\n"
          ]
        },
        {
          "output_type": "display_data",
          "data": {
            "text/plain": [
              "<Figure size 432x288 with 1 Axes>"
            ],
            "image/png": "[encoded data removed]"
          },
          "metadata": {
            "needs_background": "light"
          }
        }
      ],
      "source": [
        "# Show the learning curves\n",
        "history_df = pd.DataFrame(history.history)\n",
        "history_df.loc[:, ['loss', 'val_loss']].plot();\n",
        "print((\"Minimum Validation Loss: {:0.4f}\").format(history_df['val_loss'].min()))"
      ]
    },
    {
      "cell_type": "code",
      "execution_count": null,
      "metadata": {
        "id": "IP65Eu8ZbqDX"
      },
      "outputs": [],
      "source": [
        "#dnn예측값\n",
        "dnn_pred=model.predict(x_test)"
      ]
    },
    {
      "cell_type": "markdown",
      "source": [
        "### **knn모형**\n",
        "\n",
        "\n"
      ],
      "metadata": {
        "id": "K2XfL4ElChBR"
      }
    },
    {
      "cell_type": "code",
      "source": [
        ""
      ],
      "metadata": {
        "id": "KvID64u3Cg0y"
      },
      "execution_count": null,
      "outputs": []
    },
    {
      "cell_type": "code",
      "source": [
        "from sklearn import neighbors  #인접값 라이브러리 가져오기\n",
        "from sklearn.preprocessing import MinMaxScaler  #최솟값과 최댓값으로 표준화하는 라이브러리\n",
        "from sklearn.model_selection import train_test_split\n",
        "from sklearn.metrics import mean_squared_error,mean_absolute_error"
      ],
      "metadata": {
        "id": "od7Wae_sTxaD"
      },
      "execution_count": null,
      "outputs": []
    },
    {
      "cell_type": "code",
      "source": [
        "import pandas as pd\n",
        "import numpy as np\n",
        "from matplotlib import pyplot as plt"
      ],
      "metadata": {
        "id": "vp_I7mgriXrb"
      },
      "execution_count": null,
      "outputs": []
    },
    {
      "cell_type": "code",
      "source": [
        "red_wine = pd.read_csv('winequality-red.csv')  #원래 파일 불러오기"
      ],
      "metadata": {
        "id": "OGCj2CYJiXjF"
      },
      "execution_count": null,
      "outputs": []
    },
    {
      "cell_type": "code",
      "source": [
        "target = red_wine['quality']   #목표변수를 해당 파일의 quality로 가져오기\n",
        "features = red_wine.drop('quality', axis = 1)  #axis=1은 열방향으로 동작하여 변수를 가져옴\n",
        "\n",
        "X_train, X_test, Y_train, Y_test = train_test_split(features, target, test_size=0.2)   #데이터중 20%를 테스트 data 나머지를 training data로 가져옴\n",
        "\n",
        "scaler = MinMaxScaler(feature_range=(0, 1))  #표준화의 방법으로 최대값1 최솟값 0"
      ],
      "metadata": {
        "id": "kVWSXx0TiXY8"
      },
      "execution_count": null,
      "outputs": []
    },
    {
      "cell_type": "code",
      "source": [
        "X_train = scaler.fit_transform(X_train)  #train 데이터를 표준화\n",
        "X_train = pd.DataFrame(X_train)\n",
        "\n",
        "X_test = scaler.fit_transform(X_test)  #test 데이터를 표준화 \n",
        "X_test = pd.DataFrame(X_test)"
      ],
      "metadata": {
        "id": "P90vLz6ZiXJW"
      },
      "execution_count": null,
      "outputs": []
    },
    {
      "cell_type": "code",
      "source": [
        "mae_error = []        #mae 값 리스트 미리 만들어두고 여기에 저장\n",
        "\n",
        "for K in range (1, 100):   #인접한 k 값을 1부터 loop반복 실행 99번째 까지 실행\n",
        "  model = neighbors.KNeighborsRegressor(n_neighbors = K)\n",
        "  model.fit(X_train, Y_train)\n",
        "  pred = model.predict (X_test)\n",
        "  error = mean_absolute_error(Y_test, pred)  # squared=false는 mse를 rmse로 변경 시켜줌.\n",
        "  mae_error.append(error) #error에 값 넣어줌."
      ],
      "metadata": {
        "id": "LbolcjvViw0S"
      },
      "execution_count": null,
      "outputs": []
    },
    {
      "cell_type": "code",
      "source": [
        "x = np.linspace(1,99, num = 99)  #그래프 그리기 위해서 x 값 설정 1~99를 99로 나누어서 넣음 즉, 99번 위에 돌린 값 x \n",
        "y = mae_error  #y값은 로스 값."
      ],
      "metadata": {
        "id": "YE8pUyc5iww1"
      },
      "execution_count": null,
      "outputs": []
    },
    {
      "cell_type": "code",
      "source": [
        "fig, ax = plt.subplots(figsize=(8, 5), facecolor=\"#c1f1f1\")\n",
        "ax.plot(x, y)   #그래프 그림.\n",
        "\n",
        "#annot_optimum(x, y)\n",
        "plt.xlabel('K - Values')\n",
        "plt.ylabel('MAE_Error')\n",
        "plt.show ( )\n"
      ],
      "metadata": {
        "colab": {
          "base_uri": "https://localhost:8080/",
          "height": 334
        },
        "id": "KUmHFRLmizRL",
        "outputId": "f231bc64-dbc6-474a-8d0c-ff6d010de58c"
      },
      "execution_count": null,
      "outputs": [
        {
          "output_type": "display_data",
          "data": {
            "text/plain": [
              "<Figure size 576x360 with 1 Axes>"
            ],
            "image/png": "[encoded data removed]"
          },
          "metadata": {}
        }
      ]
    },
    {
      "cell_type": "code",
      "source": [
        "#knn예측값\n",
        "knn_model=model.predict(X_test)\n"
      ],
      "metadata": {
        "id": "Y0BMIoB1iXFd"
      },
      "execution_count": null,
      "outputs": []
    },
    {
      "cell_type": "code",
      "source": [
        ""
      ],
      "metadata": {
        "id": "IybsJEjzizOr"
      },
      "execution_count": null,
      "outputs": []
    },
    {
      "cell_type": "code",
      "source": [
        ""
      ],
      "metadata": {
        "id": "HQXcWulkizKp"
      },
      "execution_count": null,
      "outputs": []
    },
    {
      "cell_type": "markdown",
      "source": [
        "### **랜덤포레스트**"
      ],
      "metadata": {
        "id": "2bHGtJtwFD2o"
      }
    },
    {
      "cell_type": "code",
      "source": [
        "from sklearn.ensemble import RandomForestClassifier  #랜덤포레스트 불러오기"
      ],
      "metadata": {
        "id": "FBwSIHwSFJOk"
      },
      "execution_count": null,
      "outputs": []
    },
    {
      "cell_type": "code",
      "source": [
        "from sklearn.model_selection import train_test_split #데이터분류 위에 되어 있지만 다시 가져옴"
      ],
      "metadata": {
        "id": "uWreP1msFJL8"
      },
      "execution_count": null,
      "outputs": []
    },
    {
      "cell_type": "code",
      "source": [
        "import pandas as pd  #넘파이, 팬다스, 팬다스 프로파일 가져옴\n",
        "import numpy as np\n",
        "import pandas_profiling  #팬다스 프로파일은 null값등 여러 값을 정리해서 보여주는 기능"
      ],
      "metadata": {
        "id": "H2q0GzleFJIx"
      },
      "execution_count": null,
      "outputs": []
    },
    {
      "cell_type": "code",
      "source": [
        "%matplotlib inline  \n",
        "#브라우저에서 바로 그림을 볼 수 있도록 하는 커맨드"
      ],
      "metadata": {
        "id": "5BNawNZpFJGY"
      },
      "execution_count": null,
      "outputs": []
    },
    {
      "cell_type": "code",
      "source": [
        "df = pd.read_csv('winequality-red.csv')"
      ],
      "metadata": {
        "id": "VYfEkGfmFJC8"
      },
      "execution_count": null,
      "outputs": []
    },
    {
      "cell_type": "code",
      "source": [
        "df.describe()"
      ],
      "metadata": {
        "colab": {
          "base_uri": "https://localhost:8080/",
          "height": 300
        },
        "id": "ZPQZvmuAFI_s",
        "outputId": "d82aeec1-16f9-485d-9a7e-ddd771758909"
      },
      "execution_count": null,
      "outputs": [
        {
          "output_type": "execute_result",
          "data": {
            "text/plain": [
              "       fixed acidity  volatile acidity  citric acid  residual sugar  \\\n",
              "count    1599.000000       1599.000000  1599.000000     1599.000000   \n",
              "mean        8.319637          0.527821     0.270976        2.538806   \n",
              "std         1.741096          0.179060     0.194801        1.409928   \n",
              "min         4.600000          0.120000     0.000000        0.900000   \n",
              "25%         7.100000          0.390000     0.090000        1.900000   \n",
              "50%         7.900000          0.520000     0.260000        2.200000   \n",
              "75%         9.200000          0.640000     0.420000        2.600000   \n",
              "max        15.900000          1.580000     1.000000       15.500000   \n",
              "\n",
              "         chlorides  free sulfur dioxide  total sulfur dioxide      density  \\\n",
              "count  1599.000000          1599.000000           1599.000000  1599.000000   \n",
              "mean      0.087467            15.874922             46.467792     0.996747   \n",
              "std       0.047065            10.460157             32.895324     0.001887   \n",
              "min       0.012000             1.000000              6.000000     0.990070   \n",
              "25%       0.070000             7.000000             22.000000     0.995600   \n",
              "50%       0.079000            14.000000             38.000000     0.996750   \n",
              "75%       0.090000            21.000000             62.000000     0.997835   \n",
              "max       0.611000            72.000000            289.000000     1.003690   \n",
              "\n",
              "                pH    sulphates      alcohol      quality  \n",
              "count  1599.000000  1599.000000  1599.000000  1599.000000  \n",
              "mean      3.311113     0.658149    10.422983     5.636023  \n",
              "std       0.154386     0.169507     1.065668     0.807569  \n",
              "min       2.740000     0.330000     8.400000     3.000000  \n",
              "25%       3.210000     0.550000     9.500000     5.000000  \n",
              "50%       3.310000     0.620000    10.200000     6.000000  \n",
              "75%       3.400000     0.730000    11.100000     6.000000  \n",
              "max       4.010000     2.000000    14.900000     8.000000  "
            ],
            "text/html": [
              "\n",
              "  <div id=\"df-d86a93a0-d39d-4cf8-97f9-f83ff60929b4\">\n",
              "    <div class=\"colab-df-container\">\n",
              "      <div>\n",
              "<style scoped>\n",
              "    .dataframe tbody tr th:only-of-type {\n",
              "        vertical-align: middle;\n",
              "    }\n",
              "\n",
              "    .dataframe tbody tr th {\n",
              "        vertical-align: top;\n",
              "    }\n",
              "\n",
              "    .dataframe thead th {\n",
              "        text-align: right;\n",
              "    }\n",
              "</style>\n",
              "<table border=\"1\" class=\"dataframe\">\n",
              "  <thead>\n",
              "    <tr style=\"text-align: right;\">\n",
              "      <th></th>\n",
              "      <th>fixed acidity</th>\n",
              "      <th>volatile acidity</th>\n",
              "      <th>citric acid</th>\n",
              "      <th>residual sugar</th>\n",
              "      <th>chlorides</th>\n",
              "      <th>free sulfur dioxide</th>\n",
              "      <th>total sulfur dioxide</th>\n",
              "      <th>density</th>\n",
              "      <th>pH</th>\n",
              "      <th>sulphates</th>\n",
              "      <th>alcohol</th>\n",
              "      <th>quality</th>\n",
              "    </tr>\n",
              "  </thead>\n",
              "  <tbody>\n",
              "    <tr>\n",
              "      <th>count</th>\n",
              "      <td>1599.000000</td>\n",
              "      <td>1599.000000</td>\n",
              "      <td>1599.000000</td>\n",
              "      <td>1599.000000</td>\n",
              "      <td>1599.000000</td>\n",
              "      <td>1599.000000</td>\n",
              "      <td>1599.000000</td>\n",
              "      <td>1599.000000</td>\n",
              "      <td>1599.000000</td>\n",
              "      <td>1599.000000</td>\n",
              "      <td>1599.000000</td>\n",
              "      <td>1599.000000</td>\n",
              "    </tr>\n",
              "    <tr>\n",
              "      <th>mean</th>\n",
              "      <td>8.319637</td>\n",
              "      <td>0.527821</td>\n",
              "      <td>0.270976</td>\n",
              "      <td>2.538806</td>\n",
              "      <td>0.087467</td>\n",
              "      <td>15.874922</td>\n",
              "      <td>46.467792</td>\n",
              "      <td>0.996747</td>\n",
              "      <td>3.311113</td>\n",
              "      <td>0.658149</td>\n",
              "      <td>10.422983</td>\n",
              "      <td>5.636023</td>\n",
              "    </tr>\n",
              "    <tr>\n",
              "      <th>std</th>\n",
              "      <td>1.741096</td>\n",
              "      <td>0.179060</td>\n",
              "      <td>0.194801</td>\n",
              "      <td>1.409928</td>\n",
              "      <td>0.047065</td>\n",
              "      <td>10.460157</td>\n",
              "      <td>32.895324</td>\n",
              "      <td>0.001887</td>\n",
              "      <td>0.154386</td>\n",
              "      <td>0.169507</td>\n",
              "      <td>1.065668</td>\n",
              "      <td>0.807569</td>\n",
              "    </tr>\n",
              "    <tr>\n",
              "      <th>min</th>\n",
              "      <td>4.600000</td>\n",
              "      <td>0.120000</td>\n",
              "      <td>0.000000</td>\n",
              "      <td>0.900000</td>\n",
              "      <td>0.012000</td>\n",
              "      <td>1.000000</td>\n",
              "      <td>6.000000</td>\n",
              "      <td>0.990070</td>\n",
              "      <td>2.740000</td>\n",
              "      <td>0.330000</td>\n",
              "      <td>8.400000</td>\n",
              "      <td>3.000000</td>\n",
              "    </tr>\n",
              "    <tr>\n",
              "      <th>25%</th>\n",
              "      <td>7.100000</td>\n",
              "      <td>0.390000</td>\n",
              "      <td>0.090000</td>\n",
              "      <td>1.900000</td>\n",
              "      <td>0.070000</td>\n",
              "      <td>7.000000</td>\n",
              "      <td>22.000000</td>\n",
              "      <td>0.995600</td>\n",
              "      <td>3.210000</td>\n",
              "      <td>0.550000</td>\n",
              "      <td>9.500000</td>\n",
              "      <td>5.000000</td>\n",
              "    </tr>\n",
              "    <tr>\n",
              "      <th>50%</th>\n",
              "      <td>7.900000</td>\n",
              "      <td>0.520000</td>\n",
              "      <td>0.260000</td>\n",
              "      <td>2.200000</td>\n",
              "      <td>0.079000</td>\n",
              "      <td>14.000000</td>\n",
              "      <td>38.000000</td>\n",
              "      <td>0.996750</td>\n",
              "      <td>3.310000</td>\n",
              "      <td>0.620000</td>\n",
              "      <td>10.200000</td>\n",
              "      <td>6.000000</td>\n",
              "    </tr>\n",
              "    <tr>\n",
              "      <th>75%</th>\n",
              "      <td>9.200000</td>\n",
              "      <td>0.640000</td>\n",
              "      <td>0.420000</td>\n",
              "      <td>2.600000</td>\n",
              "      <td>0.090000</td>\n",
              "      <td>21.000000</td>\n",
              "      <td>62.000000</td>\n",
              "      <td>0.997835</td>\n",
              "      <td>3.400000</td>\n",
              "      <td>0.730000</td>\n",
              "      <td>11.100000</td>\n",
              "      <td>6.000000</td>\n",
              "    </tr>\n",
              "    <tr>\n",
              "      <th>max</th>\n",
              "      <td>15.900000</td>\n",
              "      <td>1.580000</td>\n",
              "      <td>1.000000</td>\n",
              "      <td>15.500000</td>\n",
              "      <td>0.611000</td>\n",
              "      <td>72.000000</td>\n",
              "      <td>289.000000</td>\n",
              "      <td>1.003690</td>\n",
              "      <td>4.010000</td>\n",
              "      <td>2.000000</td>\n",
              "      <td>14.900000</td>\n",
              "      <td>8.000000</td>\n",
              "    </tr>\n",
              "  </tbody>\n",
              "</table>\n",
              "</div>\n",
              "      <button class=\"colab-df-convert\" onclick=\"convertToInteractive('df-d86a93a0-d39d-4cf8-97f9-f83ff60929b4')\"\n",
              "              title=\"Convert this dataframe to an interactive table.\"\n",
              "              style=\"display:none;\">\n",
              "        \n",
              "  <svg xmlns=\"http://www.w3.org/2000/svg\" height=\"24px\"viewBox=\"0 0 24 24\"\n",
              "       width=\"24px\">\n",
              "    <path d=\"M0 0h24v24H0V0z\" fill=\"none\"/>\n",
              "    <path d=\"M18.56 5.44l.94 2.06.94-2.06 2.06-.94-2.06-.94-.94-2.06-.94 2.06-2.06.94zm-11 1L8.5 8.5l.94-2.06 2.06-.94-2.06-.94L8.5 2.5l-.94 2.06-2.06.94zm10 10l.94 2.06.94-2.06 2.06-.94-2.06-.94-.94-2.06-.94 2.06-2.06.94z\"/><path d=\"M17.41 7.96l-1.37-1.37c-.4-.4-.92-.59-1.43-.59-.52 0-1.04.2-1.43.59L10.3 9.45l-7.72 7.72c-.78.78-.78 2.05 0 2.83L4 21.41c.39.39.9.59 1.41.59.51 0 1.02-.2 1.41-.59l7.78-7.78 2.81-2.81c.8-.78.8-2.07 0-2.86zM5.41 20L4 18.59l7.72-7.72 1.47 1.35L5.41 20z\"/>\n",
              "  </svg>\n",
              "      </button>\n",
              "      \n",
              "  <style>\n",
              "    .colab-df-container {\n",
              "      display:flex;\n",
              "      flex-wrap:wrap;\n",
              "      gap: 12px;\n",
              "    }\n",
              "\n",
              "    .colab-df-convert {\n",
              "      background-color: #E8F0FE;\n",
              "      border: none;\n",
              "      border-radius: 50%;\n",
              "      cursor: pointer;\n",
              "      display: none;\n",
              "      fill: #1967D2;\n",
              "      height: 32px;\n",
              "      padding: 0 0 0 0;\n",
              "      width: 32px;\n",
              "    }\n",
              "\n",
              "    .colab-df-convert:hover {\n",
              "      background-color: #E2EBFA;\n",
              "      box-shadow: 0px 1px 2px rgba(60, 64, 67, 0.3), 0px 1px 3px 1px rgba(60, 64, 67, 0.15);\n",
              "      fill: #174EA6;\n",
              "    }\n",
              "\n",
              "    [theme=dark] .colab-df-convert {\n",
              "      background-color: #3B4455;\n",
              "      fill: #D2E3FC;\n",
              "    }\n",
              "\n",
              "    [theme=dark] .colab-df-convert:hover {\n",
              "      background-color: #434B5C;\n",
              "      box-shadow: 0px 1px 3px 1px rgba(0, 0, 0, 0.15);\n",
              "      filter: drop-shadow(0px 1px 2px rgba(0, 0, 0, 0.3));\n",
              "      fill: #FFFFFF;\n",
              "    }\n",
              "  </style>\n",
              "\n",
              "      <script>\n",
              "        const buttonEl =\n",
              "          document.querySelector('#df-d86a93a0-d39d-4cf8-97f9-f83ff60929b4 button.colab-df-convert');\n",
              "        buttonEl.style.display =\n",
              "          google.colab.kernel.accessAllowed ? 'block' : 'none';\n",
              "\n",
              "        async function convertToInteractive(key) {\n",
              "          const element = document.querySelector('#df-d86a93a0-d39d-4cf8-97f9-f83ff60929b4');\n",
              "          const dataTable =\n",
              "            await google.colab.kernel.invokeFunction('convertToInteractive',\n",
              "                                                     [key], {});\n",
              "          if (!dataTable) return;\n",
              "\n",
              "          const docLinkHtml = 'Like what you see? Visit the ' +\n",
              "            '<a target=\"_blank\" href=https://colab.research.google.com/notebooks/data_table.ipynb>data table notebook</a>'\n",
              "            + ' to learn more about interactive tables.';\n",
              "          element.innerHTML = '';\n",
              "          dataTable['output_type'] = 'display_data';\n",
              "          await google.colab.output.renderOutput(dataTable, element);\n",
              "          const docLink = document.createElement('div');\n",
              "          docLink.innerHTML = docLinkHtml;\n",
              "          element.appendChild(docLink);\n",
              "        }\n",
              "      </script>\n",
              "    </div>\n",
              "  </div>\n",
              "  "
            ]
          },
          "metadata": {},
          "execution_count": 29
        }
      ]
    },
    {
      "cell_type": "code",
      "source": [
        "#print(\"Original shape of the data: \"+ str(df.shape))\n",
        "features_names = df.columns  #feature_names에 df의 열들을 넣어줌"
      ],
      "metadata": {
        "id": "VeAR0BIBFgUw"
      },
      "execution_count": null,
      "outputs": []
    },
    {
      "cell_type": "code",
      "source": [
        "a = df.drop('quality', axis =1).values  #axis=1은 열방향으로 작동 x변수 열방향으로 넣고 quality열은 해당x\n",
        "b = df['quality'].values #목표변수인 y를 설정\n",
        "print(a.shape)\n",
        "print(b.shape)"
      ],
      "metadata": {
        "colab": {
          "base_uri": "https://localhost:8080/"
        },
        "id": "SFqDka8JFgQu",
        "outputId": "2522ffca-e9a7-410d-d134-885142f6a420"
      },
      "execution_count": null,
      "outputs": [
        {
          "output_type": "stream",
          "name": "stdout",
          "text": [
            "(1599, 11)\n",
            "(1599,)\n"
          ]
        }
      ]
    },
    {
      "cell_type": "code",
      "source": [
        "a_train, a_test, b_train, b_test = train_test_split(a, b, train_size=0.7, random_state=42, shuffle=True)\n",
        "#테스트와 트레인 데이타 분류"
      ],
      "metadata": {
        "id": "xS9yE3DHFgNy"
      },
      "execution_count": null,
      "outputs": []
    },
    {
      "cell_type": "code",
      "source": [
        "rf = RandomForestClassifier(n_estimators=500, criterion='entropy', max_features='log2', max_depth=15)\n",
        "#rf는 랜덤포레스트로 트리 500개, 깊이는 최대 15로 설정 criterion='entropy 로 설정한다. max_feature은 최상 분할을 검색할때 고려할 변수로 log2임으로 설정."
      ],
      "metadata": {
        "id": "oA11R_QjFI8m"
      },
      "execution_count": null,
      "outputs": []
    },
    {
      "cell_type": "code",
      "source": [
        "rf.fit(a_train, b_train) #모델 fitting"
      ],
      "metadata": {
        "colab": {
          "base_uri": "https://localhost:8080/"
        },
        "id": "jMZSSQ5xF70y",
        "outputId": "8a78a6cf-1535-4bd5-cebf-894a98455d19"
      },
      "execution_count": null,
      "outputs": [
        {
          "output_type": "execute_result",
          "data": {
            "text/plain": [
              "RandomForestClassifier(criterion='entropy', max_depth=15, max_features='log2',\n",
              "                       n_estimators=500)"
            ]
          },
          "metadata": {},
          "execution_count": 34
        }
      ]
    },
    {
      "cell_type": "code",
      "source": [
        "a_predict = rf.predict(a_test) #x테스트 값을 넣어서 예측 실행"
      ],
      "metadata": {
        "id": "fw0B3x1PF7xj"
      },
      "execution_count": null,
      "outputs": []
    },
    {
      "cell_type": "code",
      "source": [
        "from sklearn.metrics import mean_squared_error,mean_absolute_error\n",
        "rf_mae=mean_absolute_error(b_test,a_predict)\n",
        "rf_mae  #rf_mae는 랜덤포레스트의 mae값."
      ],
      "metadata": {
        "colab": {
          "base_uri": "https://localhost:8080/"
        },
        "id": "_wbhxHh7F7q4",
        "outputId": "a85efc1f-3482-4715-97c2-c65eaa6d1ee3"
      },
      "execution_count": null,
      "outputs": [
        {
          "output_type": "execute_result",
          "data": {
            "text/plain": [
              "0.34791666666666665"
            ]
          },
          "metadata": {},
          "execution_count": 36
        }
      ]
    },
    {
      "cell_type": "code",
      "execution_count": null,
      "metadata": {
        "id": "zT-p0ufAas-W"
      },
      "outputs": [],
      "source": [
        "#making the predictions dnn예측값\n",
        "#dnn_pred = model.predict(X_test)"
      ]
    },
    {
      "cell_type": "markdown",
      "source": [
        "**LOSS비교**"
      ],
      "metadata": {
        "id": "1B_EZiHn6wPE"
      }
    },
    {
      "cell_type": "code",
      "execution_count": null,
      "metadata": {
        "id": "drMJofgHcC1u"
      },
      "outputs": [],
      "source": [
        "from sklearn.metrics import mean_squared_error,mean_absolute_error"
      ]
    },
    {
      "cell_type": "code",
      "execution_count": null,
      "metadata": {
        "id": "XCfQWkdibnxf",
        "colab": {
          "base_uri": "https://localhost:8080/"
        },
        "outputId": "f6d3a8ea-5a02-4e0a-cf12-b48548f50aa6"
      },
      "outputs": [
        {
          "output_type": "stream",
          "name": "stdout",
          "text": [
            "DNN_MAE = 0.45\n"
          ]
        }
      ],
      "source": [
        "#getting our results\n",
        "dnn_mae = mean_absolute_error(y_test,dnn_pred)\n",
        "# dnn의 mae 값 프린트\n",
        "print(\"DNN_MAE =\",(round(dnn_mae,2)))"
      ]
    },
    {
      "cell_type": "code",
      "source": [
        "knn_mae=mean_absolute_error(Y_test,knn_model) #knn_mae 는 knn mae값\n",
        "print(\"mae =\",(round(knn_mae,2)))"
      ],
      "metadata": {
        "colab": {
          "base_uri": "https://localhost:8080/"
        },
        "id": "QF0Kql3rjDWS",
        "outputId": "644261fa-1def-4e8d-c184-a7d475c371a8"
      },
      "execution_count": null,
      "outputs": [
        {
          "output_type": "stream",
          "name": "stdout",
          "text": [
            "mae = 0.53\n"
          ]
        }
      ]
    },
    {
      "cell_type": "code",
      "source": [
        "knn_mae"
      ],
      "metadata": {
        "colab": {
          "base_uri": "https://localhost:8080/"
        },
        "id": "VDc-j8oF9hqS",
        "outputId": "d09e7899-8c40-4ce1-ab8b-12039552c0d6"
      },
      "execution_count": null,
      "outputs": [
        {
          "output_type": "execute_result",
          "data": {
            "text/plain": [
              "0.5277777777777777"
            ]
          },
          "metadata": {},
          "execution_count": 41
        }
      ]
    },
    {
      "cell_type": "code",
      "source": [
        ""
      ],
      "metadata": {
        "id": "oiults0y64a5"
      },
      "execution_count": null,
      "outputs": []
    },
    {
      "cell_type": "code",
      "source": [
        ""
      ],
      "metadata": {
        "id": "ImjoQO1i7HzN"
      },
      "execution_count": null,
      "outputs": []
    },
    {
      "cell_type": "code",
      "source": [
        ""
      ],
      "metadata": {
        "id": "rMmmQjv57HoB"
      },
      "execution_count": null,
      "outputs": []
    },
    {
      "cell_type": "code",
      "execution_count": null,
      "metadata": {
        "id": "XSiJFgn8gTnj"
      },
      "outputs": [],
      "source": [
        "#result table 결과 화면을 만들어주는 import 불러옴\n",
        "from tabulate import tabulate"
      ]
    },
    {
      "cell_type": "code",
      "execution_count": null,
      "metadata": {
        "colab": {
          "base_uri": "https://localhost:8080/"
        },
        "id": "zWurjsb9gJst",
        "outputId": "9f0e816d-016a-4a79-975e-8a226f2c03ac"
      },
      "outputs": [
        {
          "output_type": "stream",
          "name": "stdout",
          "text": [
            "Model            MAE\n",
            "-------------  -----\n",
            "Deep Learning   0.45\n",
            "KNN             0.53\n",
            "RF              0.35\n"
          ]
        }
      ],
      "source": [
        "#gathering the results 결과로 불러올 딥러닝, knn 모형 리스트 형식으로 저장.\n",
        "result_table = [['Deep Learning', round(dnn_mae,2)],['KNN',round(knn_mae,2)],['RF',round(rf_mae,2)]]\n",
        "\n",
        "#defining header names\n",
        "col_names = [\"Model\", \"MAE\"]\n",
        "\n",
        "#creating a results table\n",
        "print(tabulate(result_table, headers=col_names))"
      ]
    },
    {
      "cell_type": "code",
      "source": [
        ""
      ],
      "metadata": {
        "id": "UgIRak8oIIxy"
      },
      "execution_count": null,
      "outputs": []
    }
  ],
  "metadata": {
    "colab": {
      "name": "과제1",
      "provenance": [],
      "collapsed_sections": [],
      "include_colab_link": true
    },
    "kernelspec": {
      "display_name": "Python 3",
      "language": "python",
      "name": "python3"
    },
    "language_info": {
      "codemirror_mode": {
        "name": "ipython",
        "version": 3
      },
      "file_extension": ".py",
      "mimetype": "text/x-python",
      "name": "python",
      "nbconvert_exporter": "python",
      "pygments_lexer": "ipython3",
      "version": "3.7.12"
    },
    "accelerator": "GPU"
  },
  "nbformat": 4,
  "nbformat_minor": 0
}